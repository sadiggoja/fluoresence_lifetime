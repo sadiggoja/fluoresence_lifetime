{
  "nbformat": 4,
  "nbformat_minor": 0,
  "metadata": {
    "colab": {
      "name": "cs_for_physics_report",
      "provenance": [],
      "collapsed_sections": [],
      "toc_visible": true
    },
    "kernelspec": {
      "name": "python3",
      "display_name": "Python 3"
    }
  },
  "cells": [
    {
      "cell_type": "code",
      "metadata": {
        "id": "1n6M-vBq0Bkn"
      },
      "source": [
        "import numpy as np\n",
        "import time\n",
        "import math as mt\n",
        "import pickle  \n",
        "from itertools import combinations ,permutations  "
      ],
      "execution_count": null,
      "outputs": []
    },
    {
      "cell_type": "code",
      "metadata": {
        "id": "iU3am1DVthKI"
      },
      "source": [
        "times=np.array(range(0,1000001, 100), dtype='float')/1e12 #declare times array 0 to 1micro second with 100 ps"
      ],
      "execution_count": null,
      "outputs": []
    },
    {
      "cell_type": "code",
      "metadata": {
        "id": "yGEhEz0wMYB8"
      },
      "source": [
        "molecules={\n",
        "    'Naphtalene'        : 200.9e-9,\n",
        "    'Anthracene'        : 5.8e-9, \n",
        "    'Benzopyrene'       : 38.6e-9,\n",
        "    'Pyrene'            : 516.2e-9,\n",
        "    'Chrysene'          : 57.8e-9,\n",
        "    'Benzofluoranthene' : 8.9e-9,\n",
        "} #molecules dictionary"
      ],
      "execution_count": null,
      "outputs": []
    },
    {
      "cell_type": "code",
      "metadata": {
        "id": "Ln1YAwiONwN6"
      },
      "source": [
        "lifetimes=np.array(list(molecules.values())) #get lifetimes of "
      ],
      "execution_count": null,
      "outputs": []
    },
    {
      "cell_type": "code",
      "metadata": {
        "id": "Hlb24_wfOBhp"
      },
      "source": [
        "molecule_names=list(molecules.keys()) #get name of molecules"
      ],
      "execution_count": null,
      "outputs": []
    },
    {
      "cell_type": "code",
      "metadata": {
        "id": "NxbmjDZxsU5Z"
      },
      "source": [
        "def florescent(time, lifetime):\n",
        "  return mt.exp(-(time/lifetime)) #calculate flouresence level"
      ],
      "execution_count": null,
      "outputs": []
    },
    {
      "cell_type": "code",
      "metadata": {
        "id": "z5o6BfK6scdx"
      },
      "source": [
        "fluoresence_levels=[] #get fluoresence level values of all molecules without A\n",
        "for i in lifetimes:\n",
        "  row=np.zeros(10000) #create 1 row per molecule to keep f.levels\n",
        "  for j in range(10000):\n",
        "    row[j]= florescent(times[j], i) #calc and append value\n",
        "  fluoresence_levels.append(row) #append data of molecule\n",
        "fluoresence_levels=np.array(fluoresence_levels)"
      ],
      "execution_count": null,
      "outputs": []
    },
    {
      "cell_type": "code",
      "metadata": {
        "id": "YuA-YYmdFjqb"
      },
      "source": [
        "def show_errors(error_list, test, data_test, numbers): #show errors between mixture data and guessed data\n",
        "  for i in range( numbers ):\n",
        "    print(f'Guessed          {test[error_list[i]]}')\n",
        "    print(f'Real data        {data_test[error_list[i]]}')"
      ],
      "execution_count": null,
      "outputs": []
    },
    {
      "cell_type": "code",
      "metadata": {
        "id": "Q1ejEmDuN-kx"
      },
      "source": [
        "def errors(test, data_test): #find number of errors and their indexes\n",
        "  errors=0\n",
        "  error_list= []\n",
        "  for i in range(10000):\n",
        "    if test_error(test[i], data_test[i]): #check value that guessed in data is error\n",
        "      error_list.append(i) #collect index of error\n",
        "  error_list=np.array(error_list)\n",
        "  return error_list"
      ],
      "execution_count": null,
      "outputs": []
    },
    {
      "cell_type": "code",
      "metadata": {
        "id": "IhAOneF3IgXx"
      },
      "source": [
        "def test_error(value1, value2): #check value to determine it is error or not\n",
        "  if abs(value1-value2) > 1e-10: #if abstract of two value is greater than 10^-10 then it is error\n",
        "    return True\n",
        "  return False"
      ],
      "execution_count": null,
      "outputs": []
    },
    {
      "cell_type": "code",
      "metadata": {
        "id": "kAh1R5JGNlW6"
      },
      "source": [
        "def get_sum(a_vals, index_list): # get guessed data with the indexes of molecules and A values\n",
        "  sum=np.zeros(10000)\n",
        "  for i in range(len(index_list)):\n",
        "    sum+=a_vals[i]*fluoresence_levels[index_list[i]]\n",
        "  return sum"
      ],
      "execution_count": null,
      "outputs": []
    },
    {
      "cell_type": "code",
      "metadata": {
        "id": "xWwXmUpoRnN8"
      },
      "source": [
        "def A_list (size, n): #determine all the possible A values respect to the sum of A and number of molecules\n",
        "\n",
        "  comb=np.ones(n*(size-n+1)) \n",
        "  temp=1\n",
        "\n",
        "  for i in range(n, n*(size-n+1), n):\n",
        "    comb[i:i+n]+=temp #prepare data to apply permutation function for taking into consederation same values\n",
        "    temp+=1 \n",
        "\n",
        "  a_list=[]\n",
        "  for i in permutations(comb, n):\n",
        "    if(sum(i)==size and i not in a_list): #find cases that have sum is equal A sum\n",
        "      a_list.append(i)\n",
        "  return np.array(a_list)"
      ],
      "execution_count": 92,
      "outputs": []
    },
    {
      "cell_type": "code",
      "metadata": {
        "id": "U4atntnDzN_S"
      },
      "source": [
        ""
      ],
      "execution_count": 97,
      "outputs": []
    },
    {
      "cell_type": "code",
      "metadata": {
        "id": "h8oT90cVGdnv"
      },
      "source": [
        "def mixture_composition( data_test, num_mixture ): #show result and return error with giving data and number of mixtures\n",
        "  A_sum=int(data_test[0]) #get A sum from first value of mixture data (t=0 exp=1 and there will be only sum of A)\n",
        "  less_errors=9999 #minimum error variable\n",
        "  A_comb=A_list( A_sum , num_mixture ) #get combinations of A\n",
        "  t_comb=combinations(range(0,6), num_mixture ) #get combination of molecules\n",
        "  \n",
        "  for t_vals in combinations(range(0,6), num_mixture ): #iterate all the combinations\n",
        "    for A_vals in A_list( A_sum , num_mixture ):\n",
        "      guessed_data= get_sum (A_vals, t_vals) #generate data\n",
        "      num_of_errors = len( errors( guessed_data, data_test ) ) #get number of errors\n",
        "      if num_of_errors < less_errors: #compare with lest error, if less than lest, lest will be that\n",
        "        A_lessErrors=A_vals #keep A combination of less error \n",
        "        t_lessErrors=t_vals #keep molecule combination of less error\n",
        "        less_errors = num_of_errors #keep less error value\n",
        "        if (less_errors==0): #if it is zero break out of all loops\n",
        "          break\n",
        "    else:\n",
        "      continue\n",
        "    break\n",
        "\n",
        "  for i in range(1, len(t_lessErrors)+1): #show molecules and its A values in composition\n",
        "    print(f' {molecule_names[ t_lessErrors[i-1] ]} ( { lifetimes[ t_lessErrors[i-1] ] } )  A={A_lessErrors[i-1]}')\n",
        "  return less_errors"
      ],
      "execution_count": 98,
      "outputs": []
    },
    {
      "cell_type": "markdown",
      "metadata": {
        "id": "zsV_Sc0_G4uK"
      },
      "source": [
        "# Mixture 1"
      ]
    },
    {
      "cell_type": "code",
      "metadata": {
        "id": "xujIPEwV0kwa"
      },
      "source": [
        "with open('mixture1.dat', 'rb') as FID:\n",
        "  myUnpickler = pickle.Unpickler(FID)\n",
        "  data=myUnpickler.load()\n",
        "\n",
        "data1=np.array(data, dtype='float')"
      ],
      "execution_count": null,
      "outputs": []
    },
    {
      "cell_type": "code",
      "metadata": {
        "colab": {
          "base_uri": "https://localhost:8080/"
        },
        "id": "PkZT_FRIMcVK",
        "outputId": "2a3ea44a-ade7-45b9-8598-83a9f183776a"
      },
      "source": [
        "print( f' Mixture 1 with { mixture_composition ( data1, 2 ) } errors ' )"
      ],
      "execution_count": null,
      "outputs": [
        {
          "output_type": "stream",
          "text": [
            " Naphtalene ( 2.009e-07 )  A=1.0\n",
            " Benzofluoranthene ( 8.9e-09 )  A=3.0\n",
            " Mixture 1 with 0 errors \n"
          ],
          "name": "stdout"
        }
      ]
    },
    {
      "cell_type": "markdown",
      "metadata": {
        "id": "EsFHbXrEGzFu"
      },
      "source": [
        "# Mixture 4"
      ]
    },
    {
      "cell_type": "code",
      "metadata": {
        "id": "2GxJV8ER99vA"
      },
      "source": [
        "with open('mixture4.dat', 'rb') as FID:\n",
        "  myUnpickler = pickle.Unpickler(FID)\n",
        "  data=myUnpickler.load()\n",
        "\n",
        "data4=np.array(data, dtype='float')"
      ],
      "execution_count": null,
      "outputs": []
    },
    {
      "cell_type": "code",
      "metadata": {
        "colab": {
          "base_uri": "https://localhost:8080/"
        },
        "id": "lv3wYcwIHmE-",
        "outputId": "c8b6bac8-d08d-4165-cb36-3e63096ea69a"
      },
      "source": [
        "print( f' Mixture 4 with { mixture_composition ( data4, 3) } errors ' )"
      ],
      "execution_count": null,
      "outputs": [
        {
          "output_type": "stream",
          "text": [
            " Naphtalene ( 2.009e-07 )  A=1.0\n",
            " Benzopyrene ( 3.86e-08 )  A=2.0\n",
            " Benzofluoranthene ( 8.9e-09 )  A=3.0\n",
            " Mixture 4 with 0 errors \n"
          ],
          "name": "stdout"
        }
      ]
    },
    {
      "cell_type": "markdown",
      "metadata": {
        "id": "id4gCrWhptvK"
      },
      "source": [
        "# Mixture 2\n"
      ]
    },
    {
      "cell_type": "code",
      "metadata": {
        "id": "gn8ZbtWeps29"
      },
      "source": [
        "with open('mixture2.dat', 'rb') as FID:\n",
        "  myUnpickler = pickle.Unpickler(FID)\n",
        "  data=myUnpickler.load()\n",
        "\n",
        "data2=np.array(data, dtype='float')"
      ],
      "execution_count": null,
      "outputs": []
    },
    {
      "cell_type": "code",
      "metadata": {
        "id": "IX9qyE82p-EN",
        "colab": {
          "base_uri": "https://localhost:8080/"
        },
        "outputId": "bd5cfe43-1bd3-4904-c8c4-f47dd0bfd6f4"
      },
      "source": [
        "print( f' Mixture 2 with { mixture_composition ( data2, 3 ) }  errors ' )"
      ],
      "execution_count": null,
      "outputs": [
        {
          "output_type": "stream",
          "text": [
            " Anthracene ( 5.8e-09 )  A=2.0\n",
            " Pyrene ( 5.162e-07 )  A=1.0\n",
            " Chrysene ( 5.78e-08 )  A=5.0\n",
            " Mixture 2 with 0  errors \n"
          ],
          "name": "stdout"
        }
      ]
    },
    {
      "cell_type": "markdown",
      "metadata": {
        "id": "7xyvm1-lCpl5"
      },
      "source": [
        "# Mixture 3\n"
      ]
    },
    {
      "cell_type": "code",
      "metadata": {
        "id": "asXo6k4rCvhW"
      },
      "source": [
        "with open('mixture3.dat', 'rb') as FID:\n",
        "  myUnpickler = pickle.Unpickler(FID)\n",
        "  data=myUnpickler.load()\n",
        "\n",
        "data3=np.array(data.copy(), dtype='float')"
      ],
      "execution_count": null,
      "outputs": []
    },
    {
      "cell_type": "code",
      "metadata": {
        "colab": {
          "base_uri": "https://localhost:8080/"
        },
        "id": "1M517zExC1kt",
        "outputId": "18e1d69d-37b2-478b-9014-5c2fe9ce7d01"
      },
      "source": [
        "print( f' Mixture 3 with { mixture_composition ( data3, 2 ) }  errors ' )"
      ],
      "execution_count": null,
      "outputs": [
        {
          "output_type": "stream",
          "text": [
            " Naphtalene ( 2.009e-07 )  A=1.0\n",
            " Pyrene ( 5.162e-07 )  A=1.0\n",
            " Mixture 3 with 0  errors \n"
          ],
          "name": "stdout"
        }
      ]
    },
    {
      "cell_type": "markdown",
      "metadata": {
        "id": "eaj6xPi2g9GC"
      },
      "source": [
        "# Automaticly guessed how many molecules"
      ]
    },
    {
      "cell_type": "code",
      "metadata": {
        "id": "CH_wZUtHp6S2"
      },
      "source": [
        "def mixture_composition2 (data_test): #show result and return error with giving data\n",
        "  A_sum=int(data_test[0]) #get A sum from first value of mixture data (t=0 exp=1 and there will be only sum of A)\n",
        "  less_errors=9999 #minimum error variable\n",
        "\n",
        "  for num_mixture in range(2,7):#iterate number of molecules\n",
        "    A_comb=A_list( A_sum , num_mixture ) #get combinations of A\n",
        "    t_comb=combinations(range(0,6), num_mixture ) #get combination of molecules\n",
        "\n",
        "    for t_vals in combinations(range(0,6), num_mixture ): #iterate all the combinations\n",
        "      for A_vals in A_list( A_sum , num_mixture ):\n",
        "        guessed_data= get_sum (A_vals, t_vals) #generate data\n",
        "        num_of_errors = len( errors( guessed_data, data_test ) ) #get number of errors\n",
        "        if num_of_errors < less_errors: #compare with lest error, if less than lest, lest will be that\n",
        "          A_lessErrors=A_vals #keep A combination of less error \n",
        "          t_lessErrors=t_vals #keep molecule combination of less error\n",
        "          less_errors = num_of_errors #keep less error value\n",
        "          if (less_errors==0): #if it is zero break out of all loops\n",
        "            break\n",
        "      else:\n",
        "        continue\n",
        "      break\n",
        "    else:\n",
        "      continue\n",
        "    break\n",
        "  for i in range(1, len(t_lessErrors)+1):\n",
        "    print(f' {molecule_names[ t_lessErrors[i-1] ]} ( { lifetimes[ t_lessErrors[i-1] ] } )  A={A_lessErrors[i-1]}')\n",
        "  return less_errors"
      ],
      "execution_count": 99,
      "outputs": []
    },
    {
      "cell_type": "code",
      "metadata": {
        "colab": {
          "base_uri": "https://localhost:8080/"
        },
        "id": "0jEnInqoOB5Y",
        "outputId": "6c77692f-2758-4d48-dd68-b1ea384d4b25"
      },
      "source": [
        "print( f' Mixture 1 with { mixture_composition2( data1) }  errors ' )"
      ],
      "execution_count": 101,
      "outputs": [
        {
          "output_type": "stream",
          "text": [
            " Naphtalene ( 2.009e-07 )  A=1.0\n",
            " Benzofluoranthene ( 8.9e-09 )  A=3.0\n",
            " Mixture 1 with 0  errors \n"
          ],
          "name": "stdout"
        }
      ]
    },
    {
      "cell_type": "code",
      "metadata": {
        "colab": {
          "base_uri": "https://localhost:8080/"
        },
        "id": "B5orx3YMYzwq",
        "outputId": "d94fd6f1-7953-47d0-842f-f6174a636e53"
      },
      "source": [
        "print( f' Mixture 2 with { mixture_composition2( data2) }  errors ' )"
      ],
      "execution_count": 102,
      "outputs": [
        {
          "output_type": "stream",
          "text": [
            " Anthracene ( 5.8e-09 )  A=2.0\n",
            " Pyrene ( 5.162e-07 )  A=1.0\n",
            " Chrysene ( 5.78e-08 )  A=5.0\n",
            " Mixture 2 with 0  errors \n"
          ],
          "name": "stdout"
        }
      ]
    },
    {
      "cell_type": "code",
      "metadata": {
        "colab": {
          "base_uri": "https://localhost:8080/"
        },
        "id": "rRWvcGRAY-Ts",
        "outputId": "a7919995-a4f9-4588-c9b3-69a73e52bb4b"
      },
      "source": [
        "print( f' Mixture 3 with { mixture_composition2( data3) }  errors ' )"
      ],
      "execution_count": 105,
      "outputs": [
        {
          "output_type": "stream",
          "text": [
            " Naphtalene ( 2.009e-07 )  A=1.0\n",
            " Pyrene ( 5.162e-07 )  A=1.0\n",
            " Mixture 3 with 0  errors \n"
          ],
          "name": "stdout"
        }
      ]
    },
    {
      "cell_type": "code",
      "metadata": {
        "colab": {
          "base_uri": "https://localhost:8080/"
        },
        "id": "lSNAx8t2hGcN",
        "outputId": "631b674e-08ba-4733-beba-50b41875eb7d"
      },
      "source": [
        "print( f' Mixture 4 with { mixture_composition2( data4) }  errors ' )"
      ],
      "execution_count": 104,
      "outputs": [
        {
          "output_type": "stream",
          "text": [
            " Naphtalene ( 2.009e-07 )  A=1.0\n",
            " Benzopyrene ( 3.86e-08 )  A=2.0\n",
            " Benzofluoranthene ( 8.9e-09 )  A=3.0\n",
            " Mixture 4 with 0  errors \n"
          ],
          "name": "stdout"
        }
      ]
    },
    {
      "cell_type": "code",
      "metadata": {
        "id": "sp6oIrlxvBzO"
      },
      "source": [
        ""
      ],
      "execution_count": 77,
      "outputs": []
    }
  ]
}